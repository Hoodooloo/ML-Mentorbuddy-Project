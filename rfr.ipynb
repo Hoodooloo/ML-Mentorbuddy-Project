{
 "cells": [
  {
   "cell_type": "markdown",
   "metadata": {},
   "source": [
    "# Admission Prediction Using Random Forest Regression"
   ]
  },
  {
   "cell_type": "code",
   "execution_count": 1,
   "metadata": {},
   "outputs": [],
   "source": [
    "# Importing the libraries\n",
    "import numpy as np\n",
    "import pandas as pd\n",
    "import matplotlib.pyplot as plt"
   ]
  },
  {
   "cell_type": "code",
   "execution_count": 2,
   "metadata": {},
   "outputs": [
    {
     "name": "stdout",
     "output_type": "stream",
     "text": [
      "     Serial No.  GRE Score  TOEFL Score  University Rating  SOP  LOR   CGPA  \\\n",
      "0             1        337          118                  4  4.5   4.5  9.65   \n",
      "1             2        324          107                  4  4.0   4.5  8.87   \n",
      "2             3        316          104                  3  3.0   3.5  8.00   \n",
      "3             4        322          110                  3  3.5   2.5  8.67   \n",
      "4             5        314          103                  2  2.0   3.0  8.21   \n",
      "..          ...        ...          ...                ...  ...   ...   ...   \n",
      "495         496        332          108                  5  4.5   4.0  9.02   \n",
      "496         497        337          117                  5  5.0   5.0  9.87   \n",
      "497         498        330          120                  5  4.5   5.0  9.56   \n",
      "498         499        312          103                  4  4.0   5.0  8.43   \n",
      "499         500        327          113                  4  4.5   4.5  9.04   \n",
      "\n",
      "     Research  Chance of Admit   \n",
      "0           1              0.92  \n",
      "1           1              0.76  \n",
      "2           1              0.72  \n",
      "3           1              0.80  \n",
      "4           0              0.65  \n",
      "..        ...               ...  \n",
      "495         1              0.87  \n",
      "496         1              0.96  \n",
      "497         1              0.93  \n",
      "498         0              0.73  \n",
      "499         0              0.84  \n",
      "\n",
      "[500 rows x 9 columns]\n",
      "\n",
      "---------------------------\n",
      "\n",
      "<class 'pandas.core.frame.DataFrame'>\n",
      "RangeIndex: 500 entries, 0 to 499\n",
      "Data columns (total 9 columns):\n",
      " #   Column             Non-Null Count  Dtype  \n",
      "---  ------             --------------  -----  \n",
      " 0   Serial No.         500 non-null    int64  \n",
      " 1   GRE Score          500 non-null    int64  \n",
      " 2   TOEFL Score        500 non-null    int64  \n",
      " 3   University Rating  500 non-null    int64  \n",
      " 4   SOP                500 non-null    float64\n",
      " 5   LOR                500 non-null    float64\n",
      " 6   CGPA               500 non-null    float64\n",
      " 7   Research           500 non-null    int64  \n",
      " 8   Chance of Admit    500 non-null    float64\n",
      "dtypes: float64(4), int64(5)\n",
      "memory usage: 35.3 KB\n"
     ]
    }
   ],
   "source": [
    "# Importing the data set\n",
    "df = pd.read_csv('Admission_Predict_Ver1.1.csv')\n",
    "print(df)\n",
    "print('\\n---------------------------\\n')\n",
    "df.info()"
   ]
  },
  {
   "cell_type": "code",
   "execution_count": 3,
   "metadata": {},
   "outputs": [
    {
     "name": "stdout",
     "output_type": "stream",
     "text": [
      "[[337.   118.     4.   ...   4.5    9.65   1.  ]\n",
      " [324.   107.     4.   ...   4.5    8.87   1.  ]\n",
      " [316.   104.     3.   ...   3.5    8.     1.  ]\n",
      " ...\n",
      " [330.   120.     5.   ...   5.     9.56   1.  ]\n",
      " [312.   103.     4.   ...   5.     8.43   0.  ]\n",
      " [327.   113.     4.   ...   4.5    9.04   0.  ]]\n",
      "\n",
      "--------------------------\n",
      "\n",
      "[0.92 0.76 0.72 0.8  0.65 0.9  0.75 0.68 0.5  0.45 0.52 0.84 0.78 0.62\n",
      " 0.61 0.54 0.66 0.65 0.63 0.62 0.64 0.7  0.94 0.95 0.97 0.94 0.76 0.44\n",
      " 0.46 0.54 0.65 0.74 0.91 0.9  0.94 0.88 0.64 0.58 0.52 0.48 0.46 0.49\n",
      " 0.53 0.87 0.91 0.88 0.86 0.89 0.82 0.78 0.76 0.56 0.78 0.72 0.7  0.64\n",
      " 0.64 0.46 0.36 0.42 0.48 0.47 0.54 0.56 0.52 0.55 0.61 0.57 0.68 0.78\n",
      " 0.94 0.96 0.93 0.84 0.74 0.72 0.74 0.64 0.44 0.46 0.5  0.96 0.92 0.92\n",
      " 0.94 0.76 0.72 0.66 0.64 0.74 0.64 0.38 0.34 0.44 0.36 0.42 0.48 0.86\n",
      " 0.9  0.79 0.71 0.64 0.62 0.57 0.74 0.69 0.87 0.91 0.93 0.68 0.61 0.69\n",
      " 0.62 0.72 0.59 0.66 0.56 0.45 0.47 0.71 0.94 0.94 0.57 0.61 0.57 0.64\n",
      " 0.85 0.78 0.84 0.92 0.96 0.77 0.71 0.79 0.89 0.82 0.76 0.71 0.8  0.78\n",
      " 0.84 0.9  0.92 0.97 0.8  0.81 0.75 0.83 0.96 0.79 0.93 0.94 0.86 0.79\n",
      " 0.8  0.77 0.7  0.65 0.61 0.52 0.57 0.53 0.67 0.68 0.81 0.78 0.65 0.64\n",
      " 0.64 0.65 0.68 0.89 0.86 0.89 0.87 0.85 0.9  0.82 0.72 0.73 0.71 0.71\n",
      " 0.68 0.75 0.72 0.89 0.84 0.93 0.93 0.88 0.9  0.87 0.86 0.94 0.77 0.78\n",
      " 0.73 0.73 0.7  0.72 0.73 0.72 0.97 0.97 0.69 0.57 0.63 0.66 0.64 0.68\n",
      " 0.79 0.82 0.95 0.96 0.94 0.93 0.91 0.85 0.84 0.74 0.76 0.75 0.76 0.71\n",
      " 0.67 0.61 0.63 0.64 0.71 0.82 0.73 0.74 0.69 0.64 0.91 0.88 0.85 0.86\n",
      " 0.7  0.59 0.6  0.65 0.7  0.76 0.63 0.81 0.72 0.71 0.8  0.77 0.74 0.7\n",
      " 0.71 0.93 0.85 0.79 0.76 0.78 0.77 0.9  0.87 0.71 0.7  0.7  0.75 0.71\n",
      " 0.72 0.73 0.83 0.77 0.72 0.54 0.49 0.52 0.58 0.78 0.89 0.7  0.66 0.67\n",
      " 0.68 0.8  0.81 0.8  0.94 0.93 0.92 0.89 0.82 0.79 0.58 0.56 0.56 0.64\n",
      " 0.61 0.68 0.76 0.86 0.9  0.71 0.62 0.66 0.65 0.73 0.62 0.74 0.79 0.8\n",
      " 0.69 0.7  0.76 0.84 0.78 0.67 0.66 0.65 0.54 0.58 0.79 0.8  0.75 0.73\n",
      " 0.72 0.62 0.67 0.81 0.63 0.69 0.8  0.43 0.8  0.73 0.75 0.71 0.73 0.83\n",
      " 0.72 0.94 0.81 0.81 0.75 0.79 0.58 0.59 0.47 0.49 0.47 0.42 0.57 0.62\n",
      " 0.74 0.73 0.64 0.63 0.59 0.73 0.79 0.68 0.7  0.81 0.85 0.93 0.91 0.69\n",
      " 0.77 0.86 0.74 0.57 0.51 0.67 0.72 0.89 0.95 0.79 0.39 0.38 0.34 0.47\n",
      " 0.56 0.71 0.78 0.73 0.82 0.62 0.96 0.96 0.46 0.53 0.49 0.76 0.64 0.71\n",
      " 0.84 0.77 0.89 0.82 0.84 0.91 0.67 0.95 0.63 0.66 0.78 0.91 0.62 0.52\n",
      " 0.61 0.58 0.57 0.61 0.54 0.56 0.59 0.49 0.72 0.76 0.65 0.52 0.6  0.58\n",
      " 0.42 0.77 0.73 0.94 0.91 0.92 0.71 0.71 0.69 0.95 0.74 0.73 0.86 0.71\n",
      " 0.64 0.55 0.58 0.61 0.67 0.66 0.53 0.79 0.92 0.87 0.92 0.91 0.93 0.84\n",
      " 0.8  0.79 0.82 0.89 0.93 0.73 0.71 0.59 0.51 0.37 0.69 0.89 0.77 0.68\n",
      " 0.62 0.57 0.45 0.54 0.71 0.78 0.81 0.86 0.87 0.64 0.9  0.67 0.67 0.59\n",
      " 0.62 0.65 0.71 0.79 0.8  0.78 0.83 0.71 0.73 0.7  0.68 0.79 0.76 0.65\n",
      " 0.67 0.54 0.53 0.62 0.68 0.87 0.96 0.93 0.73 0.84]\n"
     ]
    }
   ],
   "source": [
    "# Extracting x and y from the dataset\n",
    "x = df.iloc[:,1:-1].values\n",
    "y = df.iloc[:,-1].values\n",
    "print(x)\n",
    "print('\\n--------------------------\\n')\n",
    "print(y)"
   ]
  },
  {
   "cell_type": "code",
   "execution_count": 4,
   "metadata": {},
   "outputs": [],
   "source": [
    "# Splitting the dataset into trainset and testset\n",
    "from sklearn.model_selection import train_test_split\n",
    "x_tr,x_te,y_tr,y_te = train_test_split(x,y,test_size=0.25,random_state=0)"
   ]
  },
  {
   "cell_type": "code",
   "execution_count": 5,
   "metadata": {},
   "outputs": [
    {
     "name": "stdout",
     "output_type": "stream",
     "text": [
      "40Goodness of fit(R2_score) = 0.8030351487595675\n",
      "70Goodness of fit(R2_score) = 0.8022063207198693\n",
      "128Goodness of fit(R2_score) = 0.8109262028149428\n",
      "145Goodness of fit(R2_score) = 0.8047730140040958\n",
      "147Goodness of fit(R2_score) = 0.8056332466904595\n",
      "150Goodness of fit(R2_score) = 0.8002715398530059\n",
      "165Goodness of fit(R2_score) = 0.8070596117910359\n",
      "191Goodness of fit(R2_score) = 0.8019924296128502\n",
      "201Goodness of fit(R2_score) = 0.8032019328965881\n",
      "211Goodness of fit(R2_score) = 0.818458649756368\n",
      "230Goodness of fit(R2_score) = 0.8177002699781084\n",
      "259Goodness of fit(R2_score) = 0.8022576715610386\n",
      "277Goodness of fit(R2_score) = 0.8020306244533895\n",
      "295Goodness of fit(R2_score) = 0.8074882427793079\n",
      "380Goodness of fit(R2_score) = 0.8025386158325593\n",
      "394Goodness of fit(R2_score) = 0.8051413820217395\n",
      "416Goodness of fit(R2_score) = 0.8004349288930896\n",
      "458Goodness of fit(R2_score) = 0.8189797971361679\n",
      "482Goodness of fit(R2_score) = 0.8007061122609173\n",
      "486Goodness of fit(R2_score) = 0.8003428368886789\n",
      "487Goodness of fit(R2_score) = 0.804583737349869\n",
      "509Goodness of fit(R2_score) = 0.8030156269521808\n",
      "530Goodness of fit(R2_score) = 0.8000737754564369\n",
      "532Goodness of fit(R2_score) = 0.8067464140986154\n",
      "552Goodness of fit(R2_score) = 0.8068873106214929\n",
      "611Goodness of fit(R2_score) = 0.808060741000277\n",
      "613Goodness of fit(R2_score) = 0.8033517415489249\n",
      "627Goodness of fit(R2_score) = 0.8006976245185753\n",
      "656Goodness of fit(R2_score) = 0.8058263428287404\n",
      "667Goodness of fit(R2_score) = 0.8096946314011157\n",
      "677Goodness of fit(R2_score) = 0.8005193819293929\n",
      "703Goodness of fit(R2_score) = 0.8004837334115564\n",
      "758Goodness of fit(R2_score) = 0.8029808272085786\n",
      "768Goodness of fit(R2_score) = 0.802613307965169\n",
      "784Goodness of fit(R2_score) = 0.8035338036221611\n",
      "797Goodness of fit(R2_score) = 0.8053650340324517\n",
      "798Goodness of fit(R2_score) = 0.8001845404940002\n",
      "800Goodness of fit(R2_score) = 0.8025152745411187\n",
      "837Goodness of fit(R2_score) = 0.8068915544926638\n",
      "890Goodness of fit(R2_score) = 0.805744011728023\n",
      "894Goodness of fit(R2_score) = 0.803739206986838\n",
      "898Goodness of fit(R2_score) = 0.8047611311648171\n",
      "901Goodness of fit(R2_score) = 0.8184527083367285\n",
      "911Goodness of fit(R2_score) = 0.8096632267544503\n",
      "939Goodness of fit(R2_score) = 0.8029939832092086\n",
      "955Goodness of fit(R2_score) = 0.8168290032267002\n",
      "979Goodness of fit(R2_score) = 0.8053866777754239\n",
      "987Goodness of fit(R2_score) = 0.8018803914139356\n",
      "988Goodness of fit(R2_score) = 0.8003020957254372\n"
     ]
    }
   ],
   "source": [
    "# Traing the model using Random Forest Regression Algorithm\n",
    "from sklearn.ensemble import RandomForestRegressor\n",
    "from sklearn.metrics import mean_absolute_error, mean_squared_error, r2_score\n",
    "for i in range(0,1001):\n",
    "        rfr = RandomForestRegressor(n_estimators=10,random_state=i)\n",
    "        rfr.fit(x_tr,y_tr)\n",
    "        y_pre = rfr.predict(x_te)\n",
    "        r2 = r2_score(y_te,y_pre)\n",
    "        if(r2 > 0.8):\n",
    "            print(str(i) +'Goodness of fit(R2_score) = '+ str(r2))"
   ]
  },
  {
   "cell_type": "code",
   "execution_count": 6,
   "metadata": {},
   "outputs": [
    {
     "name": "stdout",
     "output_type": "stream",
     "text": [
      "[0.627 0.842 0.794 0.879 0.649 0.697 0.547 0.695 0.585 0.681 0.623 0.7\n",
      " 0.681 0.764 0.88  0.57  0.796 0.649 0.755 0.556 0.533 0.72  0.566 0.934\n",
      " 0.868 0.716 0.768 0.507 0.625 0.637 0.691 0.411 0.667 0.835 0.626 0.559\n",
      " 0.823 0.895 0.675 0.699 0.691 0.914 0.882 0.697 0.722 0.806 0.96  0.825\n",
      " 0.58  0.699 0.667 0.655 0.653 0.813 0.682 0.853 0.587 0.872 0.64  0.704\n",
      " 0.421 0.922 0.632 0.942 0.691 0.684 0.745 0.827 0.543 0.75  0.92  0.775\n",
      " 0.705 0.629 0.789 0.927 0.768 0.742 0.498 0.676 0.624 0.895 0.555 0.698\n",
      " 0.788 0.568 0.815 0.682 0.503 0.59  0.722 0.802 0.688 0.663 0.661 0.93\n",
      " 0.576 0.601 0.653 0.657 0.913 0.671 0.952 0.643 0.698 0.633 0.719 0.831\n",
      " 0.685 0.699 0.502 0.593 0.621 0.549 0.556 0.871 0.542 0.933 0.816 0.914\n",
      " 0.673 0.733 0.909 0.84  0.616]\n"
     ]
    }
   ],
   "source": [
    "\n",
    "print(y_pre)"
   ]
  },
  {
   "cell_type": "code",
   "execution_count": 7,
   "metadata": {},
   "outputs": [
    {
     "name": "stdout",
     "output_type": "stream",
     "text": [
      "Mean absolute error = 0.04675199999999999\n",
      "Mean squared error = 0.004326288000000001\n",
      "Root mean squared error = 0.0657745239435452\n",
      "Goodness of fit(R2_score) = 0.7704973884914362\n"
     ]
    }
   ],
   "source": [
    "# Checking for the error\n",
    "from sklearn.metrics import mean_absolute_error, mean_squared_error, r2_score\n",
    "mae = mean_absolute_error(y_te,y_pre)\n",
    "mse = mean_squared_error(y_te,y_pre)\n",
    "rmse = np.sqrt(mse)\n",
    "r2 = r2_score(y_te,y_pre)\n",
    "print('Mean absolute error = ' + str(mae))\n",
    "print('Mean squared error = ' + str(mse))\n",
    "print('Root mean squared error = ' + str(rmse))\n",
    "print('Goodness of fit(R2_score) = '+ str(r2))"
   ]
  },
  {
   "cell_type": "code",
   "execution_count": 8,
   "metadata": {},
   "outputs": [
    {
     "name": "stdout",
     "output_type": "stream",
     "text": [
      "[[118.     4.     4.5    4.5    9.65   1.  ]\n",
      " [107.     4.     4.     4.5    8.87   1.  ]\n",
      " [104.     3.     3.     3.5    8.     1.  ]\n",
      " ...\n",
      " [120.     5.     4.5    5.     9.56   1.  ]\n",
      " [103.     4.     4.     5.     8.43   0.  ]\n",
      " [113.     4.     4.5    4.5    9.04   0.  ]]\n",
      "[[118.     4.     4.5    4.5    9.65   1.  ]\n",
      " [107.     4.     4.     4.5    8.87   1.  ]\n",
      " [104.     3.     3.     3.5    8.     1.  ]\n",
      " ...\n",
      " [120.     5.     4.5    5.     9.56   1.  ]\n",
      " [103.     4.     4.     5.     8.43   0.  ]\n",
      " [113.     4.     4.5    4.5    9.04   0.  ]]\n"
     ]
    },
    {
     "data": {
      "text/html": [
       "<table class=\"simpletable\">\n",
       "<caption>OLS Regression Results</caption>\n",
       "<tr>\n",
       "  <th>Dep. Variable:</th>            <td>y</td>        <th>  R-squared (uncentered):</th>      <td>   0.990</td>\n",
       "</tr>\n",
       "<tr>\n",
       "  <th>Model:</th>                   <td>OLS</td>       <th>  Adj. R-squared (uncentered):</th> <td>   0.990</td>\n",
       "</tr>\n",
       "<tr>\n",
       "  <th>Method:</th>             <td>Least Squares</td>  <th>  F-statistic:       </th>          <td>   8299.</td>\n",
       "</tr>\n",
       "<tr>\n",
       "  <th>Date:</th>             <td>Sun, 07 Feb 2021</td> <th>  Prob (F-statistic):</th>           <td>  0.00</td> \n",
       "</tr>\n",
       "<tr>\n",
       "  <th>Time:</th>                 <td>19:07:21</td>     <th>  Log-Likelihood:    </th>          <td>  599.96</td>\n",
       "</tr>\n",
       "<tr>\n",
       "  <th>No. Observations:</th>      <td>   500</td>      <th>  AIC:               </th>          <td>  -1188.</td>\n",
       "</tr>\n",
       "<tr>\n",
       "  <th>Df Residuals:</th>          <td>   494</td>      <th>  BIC:               </th>          <td>  -1163.</td>\n",
       "</tr>\n",
       "<tr>\n",
       "  <th>Df Model:</th>              <td>     6</td>      <th>                     </th>              <td> </td>   \n",
       "</tr>\n",
       "<tr>\n",
       "  <th>Covariance Type:</th>      <td>nonrobust</td>    <th>                     </th>              <td> </td>   \n",
       "</tr>\n",
       "</table>\n",
       "<table class=\"simpletable\">\n",
       "<tr>\n",
       "   <td></td>     <th>coef</th>     <th>std err</th>      <th>t</th>      <th>P>|t|</th>  <th>[0.025</th>    <th>0.975]</th>  \n",
       "</tr>\n",
       "<tr>\n",
       "  <th>x1</th> <td>   -0.0026</td> <td>    0.001</td> <td>   -3.328</td> <td> 0.001</td> <td>   -0.004</td> <td>   -0.001</td>\n",
       "</tr>\n",
       "<tr>\n",
       "  <th>x2</th> <td>    0.0248</td> <td>    0.004</td> <td>    5.615</td> <td> 0.000</td> <td>    0.016</td> <td>    0.033</td>\n",
       "</tr>\n",
       "<tr>\n",
       "  <th>x3</th> <td>    0.0175</td> <td>    0.005</td> <td>    3.224</td> <td> 0.001</td> <td>    0.007</td> <td>    0.028</td>\n",
       "</tr>\n",
       "<tr>\n",
       "  <th>x4</th> <td>    0.0210</td> <td>    0.005</td> <td>    4.164</td> <td> 0.000</td> <td>    0.011</td> <td>    0.031</td>\n",
       "</tr>\n",
       "<tr>\n",
       "  <th>x5</th> <td>    0.0883</td> <td>    0.010</td> <td>    8.573</td> <td> 0.000</td> <td>    0.068</td> <td>    0.109</td>\n",
       "</tr>\n",
       "<tr>\n",
       "  <th>x6</th> <td>    0.0589</td> <td>    0.007</td> <td>    7.941</td> <td> 0.000</td> <td>    0.044</td> <td>    0.073</td>\n",
       "</tr>\n",
       "</table>\n",
       "<table class=\"simpletable\">\n",
       "<tr>\n",
       "  <th>Omnibus:</th>       <td>80.869</td> <th>  Durbin-Watson:     </th> <td>   0.836</td>\n",
       "</tr>\n",
       "<tr>\n",
       "  <th>Prob(Omnibus):</th> <td> 0.000</td> <th>  Jarque-Bera (JB):  </th> <td> 129.751</td>\n",
       "</tr>\n",
       "<tr>\n",
       "  <th>Skew:</th>          <td>-1.007</td> <th>  Prob(JB):          </th> <td>6.68e-29</td>\n",
       "</tr>\n",
       "<tr>\n",
       "  <th>Kurtosis:</th>      <td> 4.473</td> <th>  Cond. No.          </th> <td>    343.</td>\n",
       "</tr>\n",
       "</table><br/><br/>Warnings:<br/>[1] Standard Errors assume that the covariance matrix of the errors is correctly specified."
      ],
      "text/plain": [
       "<class 'statsmodels.iolib.summary.Summary'>\n",
       "\"\"\"\n",
       "                                 OLS Regression Results                                \n",
       "=======================================================================================\n",
       "Dep. Variable:                      y   R-squared (uncentered):                   0.990\n",
       "Model:                            OLS   Adj. R-squared (uncentered):              0.990\n",
       "Method:                 Least Squares   F-statistic:                              8299.\n",
       "Date:                Sun, 07 Feb 2021   Prob (F-statistic):                        0.00\n",
       "Time:                        19:07:21   Log-Likelihood:                          599.96\n",
       "No. Observations:                 500   AIC:                                     -1188.\n",
       "Df Residuals:                     494   BIC:                                     -1163.\n",
       "Df Model:                           6                                                  \n",
       "Covariance Type:            nonrobust                                                  \n",
       "==============================================================================\n",
       "                 coef    std err          t      P>|t|      [0.025      0.975]\n",
       "------------------------------------------------------------------------------\n",
       "x1            -0.0026      0.001     -3.328      0.001      -0.004      -0.001\n",
       "x2             0.0248      0.004      5.615      0.000       0.016       0.033\n",
       "x3             0.0175      0.005      3.224      0.001       0.007       0.028\n",
       "x4             0.0210      0.005      4.164      0.000       0.011       0.031\n",
       "x5             0.0883      0.010      8.573      0.000       0.068       0.109\n",
       "x6             0.0589      0.007      7.941      0.000       0.044       0.073\n",
       "==============================================================================\n",
       "Omnibus:                       80.869   Durbin-Watson:                   0.836\n",
       "Prob(Omnibus):                  0.000   Jarque-Bera (JB):              129.751\n",
       "Skew:                          -1.007   Prob(JB):                     6.68e-29\n",
       "Kurtosis:                       4.473   Cond. No.                         343.\n",
       "==============================================================================\n",
       "\n",
       "Warnings:\n",
       "[1] Standard Errors assume that the covariance matrix of the errors is correctly specified.\n",
       "\"\"\""
      ]
     },
     "execution_count": 8,
     "metadata": {},
     "output_type": "execute_result"
    }
   ],
   "source": [
    "import statsmodels.api as sm\n",
    "X = x[:,1:8]\n",
    "print(X)\n",
    "x_opt = np.array(X[:,[0,1,2,3,4,5]], dtype=float)\n",
    "print(x_opt)\n",
    "stat = sm.OLS(endog=y,exog=x_opt).fit()\n",
    "stat.summary()"
   ]
  },
  {
   "cell_type": "code",
   "execution_count": 9,
   "metadata": {},
   "outputs": [
    {
     "data": {
      "text/plain": [
       "<seaborn.axisgrid.PairGrid at 0x7f57d3e85f40>"
      ]
     },
     "execution_count": 9,
     "metadata": {},
     "output_type": "execute_result"
    },
    {
     "data": {
      "image/png": "[encoded data removed]",
      "text/plain": [
       "<Figure size 1260x180 with 7 Axes>"
      ]
     },
     "metadata": {
      "needs_background": "light"
     },
     "output_type": "display_data"
    }
   ],
   "source": [
    "import seaborn as sns\n",
    "sns.pairplot(df,x_vars=df.columns[1:-1],y_vars=['Chance of Admit '])"
   ]
  },
  {
   "cell_type": "code",
   "execution_count": null,
   "metadata": {},
   "outputs": [],
   "source": [
    "n = int(input('Press 1 to check your chance of admit: '))\n",
    "while n == 1:    \n",
    "    gre = int(input('Enter your GRE Score(Out of 350): '))\n",
    "    toefl = int(input('Enter your TOEFL Score(Out of 120): '))\n",
    "    uni_rate = int(input('Enter your University Rating(Out of 5): '))\n",
    "    sop = float(input('SOP(Max 5): '))\n",
    "    lor = float(input('LOR(Max 5): '))\n",
    "    cgpa = float(input('Undergraduate GPA ( out of 10 ): '))\n",
    "    research = int(input('Research Experience ( either 0 or 1 )'))\n",
    "\n",
    "    in_array = [[gre, toefl,uni_rate, sop, lor, cgpa, research]]\n",
    "    print(in_array)\n",
    "    y_pre = rfr.predict(in_array)\n",
    "    print('Your Chance of getting admittion is ' + str(y_pre))\n",
    "    n = int(input('Press 1 to check your chance of admit: '))"
   ]
  },
  {
   "cell_type": "code",
   "execution_count": null,
   "metadata": {},
   "outputs": [],
   "source": []
  }
 ],
 "metadata": {
  "kernelspec": {
   "display_name": "Python 3",
   "language": "python",
   "name": "python3"
  },
  "language_info": {
   "codemirror_mode": {
    "name": "ipython",
    "version": 3
   },
   "file_extension": ".py",
   "mimetype": "text/x-python",
   "name": "python",
   "nbconvert_exporter": "python",
   "pygments_lexer": "ipython3",
   "version": "3.8.3"
  }
 },
 "nbformat": 4,
 "nbformat_minor": 4
}
